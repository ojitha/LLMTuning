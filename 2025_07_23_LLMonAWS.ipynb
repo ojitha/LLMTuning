{
  "nbformat": 4,
  "nbformat_minor": 0,
  "metadata": {
    "colab": {
      "provenance": [],
      "gpuType": "T4",
      "authorship_tag": "ABX9TyPOKzfJyeYkeWtA6fQnoDhZ"
    },
    "kernelspec": {
      "name": "python3",
      "display_name": "Python 3"
    },
    "language_info": {
      "name": "python"
    },
    "accelerator": "GPU"
  },
  "cells": [
    {
      "cell_type": "code",
      "execution_count": null,
      "metadata": {
        "id": "Nz_Xl72NU0Fg"
      },
      "outputs": [],
      "source": [
        "%%bash\n",
        "pip install transformers\n",
        "pip install sentencepiece\n",
        "pip install accelerate"
      ]
    },
    {
      "cell_type": "code",
      "source": [
        "import torch\n",
        "from transformers import pipeline\n",
        "import os"
      ],
      "metadata": {
        "id": "BjsGPf3PV9eh"
      },
      "execution_count": 3,
      "outputs": []
    },
    {
      "cell_type": "code",
      "source": [
        "# load model\n",
        "dolly_pipeline = pipeline(model=\"databricks/dolly-v2-3b\", torch_dtype=torch.bfloat16, trust_remote_code=True, device_map=\"auto\")"
      ],
      "metadata": {
        "id": "juDaZhW6VZsb"
      },
      "execution_count": null,
      "outputs": []
    },
    {
      "cell_type": "code",
      "metadata": {
        "id": "8949972e"
      },
      "source": [
        "import os\n",
        "from google.colab import userdata\n",
        "\n",
        "# Access the secret\n",
        "hf_token = userdata.get('HF_TOKEN')\n",
        "\n",
        "# Set the environment variable for Hugging Face\n",
        "os.environ[\"HF_TOKEN\"] = hf_token"
      ],
      "execution_count": null,
      "outputs": []
    },
    {
      "cell_type": "code",
      "source": [
        "from IPython.display import Markdown, display\n",
        "\n",
        "def show_py_file(filepath):\n",
        "    \"\"\"Display Python file contents as markdown code block\"\"\"\n",
        "    try:\n",
        "        with open(filepath, 'r', encoding='utf-8') as file:\n",
        "            content = file.read()\n",
        "\n",
        "        # Create markdown with python syntax highlighting\n",
        "        markdown_content = f\"```python\\n{content}\\n```\"\n",
        "        display(Markdown(markdown_content))\n",
        "    except FileNotFoundError:\n",
        "        print(f\"File not found: {filepath}\")\n",
        "    except Exception as e:\n",
        "        print(f\"Error reading file: {e}\")\n",
        "\n",
        "from IPython.display import Markdown, display\n",
        "def in_md(md_txt):\n",
        "    md_formated_txt = f\"--- Response -------<br/>{md_txt}<br/>-------------------\"\n",
        "    display(Markdown(md_formated_txt))"
      ],
      "metadata": {
        "id": "1S1m35GLV2mJ"
      },
      "execution_count": 7,
      "outputs": []
    },
    {
      "cell_type": "markdown",
      "source": [
        "Chat with Dolly"
      ],
      "metadata": {
        "id": "PGFlVuNecg3o"
      }
    },
    {
      "cell_type": "code",
      "source": [
        "def chat(prompt):\n",
        "  response = dolly_pipeline(prompt)\n",
        "  in_md(response[0]['generated_text'])\n",
        "\n"
      ],
      "metadata": {
        "id": "ZJ4e-i50bNfp"
      },
      "execution_count": 11,
      "outputs": []
    },
    {
      "cell_type": "code",
      "source": [
        "prompt = \"What is the meaning of life?\"\n",
        "chat(prompt)"
      ],
      "metadata": {
        "colab": {
          "base_uri": "https://localhost:8080/",
          "height": 81
        },
        "id": "NhRJ6wVmdscP",
        "outputId": "d36f83d4-5412-4666-93b0-da3a306f3b2b"
      },
      "execution_count": 12,
      "outputs": [
        {
          "output_type": "display_data",
          "data": {
            "text/plain": [
              "<IPython.core.display.Markdown object>"
            ],
            "text/markdown": "--- Response -------<br/>The meaning of life is to live a fulfilled life.<br/>-------------------"
          },
          "metadata": {}
        }
      ]
    },
    {
      "cell_type": "code",
      "source": [],
      "metadata": {
        "id": "vZj_Lf2feE9A"
      },
      "execution_count": null,
      "outputs": []
    }
  ]
}